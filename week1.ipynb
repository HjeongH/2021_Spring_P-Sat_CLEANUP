{
 "cells": [
  {
   "cell_type": "markdown",
   "metadata": {},
   "source": [
    "# 선형대수학 클린업 1주차 코드(파이썬)"
   ]
  },
  {
   "cell_type": "code",
   "execution_count": 1,
   "metadata": {},
   "outputs": [],
   "source": [
    "import numpy as np"
   ]
  },
  {
   "cell_type": "markdown",
   "metadata": {},
   "source": [
    "# 벡터뿌시기!\n",
    "\n",
    "### 원소를 1,2,3으로 하는 벡터를 만들어 봅시다."
   ]
  },
  {
   "cell_type": "code",
   "execution_count": 2,
   "metadata": {},
   "outputs": [
    {
     "name": "stdout",
     "output_type": "stream",
     "text": [
      "[1 2 3]\n"
     ]
    }
   ],
   "source": [
    "x1= np.array([1,2,3])\n",
    "print(x1)"
   ]
  },
  {
   "cell_type": "markdown",
   "metadata": {},
   "source": [
    "### 원소를 1~9로 하는 벡터를 만들어 봅시다."
   ]
  },
  {
   "cell_type": "code",
   "execution_count": 3,
   "metadata": {},
   "outputs": [
    {
     "name": "stdout",
     "output_type": "stream",
     "text": [
      "[1 2 3 4 5 6 7 8 9]\n"
     ]
    }
   ],
   "source": [
    "x2= np.arange(1,10,dtype=np.int)\n",
    "print(x2)"
   ]
  },
  {
   "cell_type": "markdown",
   "metadata": {},
   "source": [
    "### 원소의 데이터 타입으로 a정수, b실수, c문자열을 부여해봅시다."
   ]
  },
  {
   "cell_type": "code",
   "execution_count": 4,
   "metadata": {},
   "outputs": [
    {
     "name": "stdout",
     "output_type": "stream",
     "text": [
      "[1 2 3]\n",
      "[1. 2. 3.]\n",
      "['1' '2' '3']\n"
     ]
    }
   ],
   "source": [
    "print(np.array(x1,np.int)) #정수\n",
    "print(np.array(x1,np.float)) #실수\n",
    "print(np.array(x1,np.str)) #문자열"
   ]
  },
  {
   "cell_type": "markdown",
   "metadata": {},
   "source": [
    "### 벡터의 type, 차원, 원소개수를 확인해봅시다."
   ]
  },
  {
   "cell_type": "code",
   "execution_count": 5,
   "metadata": {},
   "outputs": [
    {
     "name": "stdout",
     "output_type": "stream",
     "text": [
      "[1 2 3]\n",
      "int32\n",
      "<class 'numpy.ndarray'>\n",
      "1\n",
      "(3,)\n",
      "3\n"
     ]
    }
   ],
   "source": [
    "print(x1)\n",
    "print(x1.dtype) #원소타입\n",
    "print(type(x1))\n",
    "print(x1.ndim) #차원\n",
    "print(x1.shape) #다차원형태\n",
    "print(x1.size) #원소개수"
   ]
  },
  {
   "cell_type": "markdown",
   "metadata": {},
   "source": [
    "### 논리연산자로 벡터를 필터링해봅시다. \n",
    "##### (True,False,True)"
   ]
  },
  {
   "cell_type": "code",
   "execution_count": 6,
   "metadata": {},
   "outputs": [
    {
     "name": "stdout",
     "output_type": "stream",
     "text": [
      "[1 2 3]\n",
      "[1 3]\n",
      "[1 3]\n"
     ]
    }
   ],
   "source": [
    "print(x1)\n",
    "\n",
    "#인덱스 이용하기\n",
    "index=[True,False,True]\n",
    "print(x1[index])\n",
    "\n",
    "\n",
    "#getiem 이용하기\n",
    "print(x1.__getitem__([True,False,True]))"
   ]
  },
  {
   "cell_type": "markdown",
   "metadata": {},
   "source": [
    "### x2의 짝수 원소를 0으로 바꿔봅시다"
   ]
  },
  {
   "cell_type": "code",
   "execution_count": 7,
   "metadata": {},
   "outputs": [
    {
     "name": "stdout",
     "output_type": "stream",
     "text": [
      "[1 2 3 4 5 6 7 8 9]\n",
      "[1 0 3 0 5 0 7 0 9]\n"
     ]
    }
   ],
   "source": [
    "#구체적인 위치정보 이용하기\n",
    "x2= np.arange(1,10,dtype=np.int)\n",
    "print(x2)\n",
    "\n",
    "x2[[1,3,5,7]] = 0\n",
    "print(x2)"
   ]
  },
  {
   "cell_type": "code",
   "execution_count": 8,
   "metadata": {},
   "outputs": [
    {
     "name": "stdout",
     "output_type": "stream",
     "text": [
      "[1 2 3 4 5 6 7 8 9]\n",
      "[1 0 3 0 5 0 7 0 9]\n"
     ]
    }
   ],
   "source": [
    "#논리연산자 인덱스 이용하기\n",
    "x2= np.arange(1,10,dtype=np.int)\n",
    "print(x2)\n",
    "\n",
    "index=[False,True,False,True,False,True,False,True,False]\n",
    "x2[index]=0\n",
    "print(x2)"
   ]
  },
  {
   "cell_type": "markdown",
   "metadata": {},
   "source": [
    "### 벡터 연산을 해봅시다. (합, 스칼라곱)"
   ]
  },
  {
   "cell_type": "code",
   "execution_count": 9,
   "metadata": {
    "scrolled": true
   },
   "outputs": [
    {
     "name": "stdout",
     "output_type": "stream",
     "text": [
      "[1 2 3]\n",
      "[3 6 9]\n",
      "[ 4  8 12]\n"
     ]
    }
   ],
   "source": [
    "print(x1)\n",
    "\n",
    "x2=x1*3 #상수배\n",
    "print(x2)\n",
    "print(x1+x2) #크기가 같은 두 벡터의 합"
   ]
  },
  {
   "cell_type": "markdown",
   "metadata": {},
   "source": [
    "### +조건으로 필터링해봅시다"
   ]
  },
  {
   "cell_type": "code",
   "execution_count": 10,
   "metadata": {},
   "outputs": [
    {
     "name": "stdout",
     "output_type": "stream",
     "text": [
      "[3 6 9]\n",
      "[3]\n",
      "1\n"
     ]
    }
   ],
   "source": [
    "print(x2)\n",
    "\n",
    "print(x2[x2<5]) #5미만인 원소만 필터링\n",
    "\n",
    "print(sum(x2==6)) #6인 원소 개수세기"
   ]
  },
  {
   "cell_type": "markdown",
   "metadata": {},
   "source": [
    "# 행렬 뿌시기!\n",
    "\n",
    "### 원소를 1~12로 하는 3x4 행렬을 만들어 봅시다."
   ]
  },
  {
   "cell_type": "code",
   "execution_count": 11,
   "metadata": {},
   "outputs": [
    {
     "name": "stdout",
     "output_type": "stream",
     "text": [
      "[[ 1  2  3  4]\n",
      " [ 5  6  7  8]\n",
      " [ 9 10 11 12]]\n"
     ]
    }
   ],
   "source": [
    "y1 = np.arange(1,13).reshape(3, 4)\n",
    "print(y1)"
   ]
  },
  {
   "cell_type": "markdown",
   "metadata": {},
   "source": [
    "### 행렬의 type, 차원, 원소개수를 확인해봅시다"
   ]
  },
  {
   "cell_type": "code",
   "execution_count": 12,
   "metadata": {},
   "outputs": [
    {
     "name": "stdout",
     "output_type": "stream",
     "text": [
      "[[ 1  2  3  4]\n",
      " [ 5  6  7  8]\n",
      " [ 9 10 11 12]]\n",
      "<class 'numpy.ndarray'>\n",
      "int32\n",
      "2\n",
      "(3, 4)\n",
      "12\n"
     ]
    }
   ],
   "source": [
    "print(y1)\n",
    "print(type(y1)) #type\n",
    "print(y1.dtype)\n",
    "print(y1.ndim) #차원\n",
    "print(y1.shape)\n",
    "print(y1.size) #원소개수"
   ]
  },
  {
   "cell_type": "markdown",
   "metadata": {},
   "source": [
    "### 논리연산자로 행렬을 필터링해봅시다."
   ]
  },
  {
   "cell_type": "code",
   "execution_count": 13,
   "metadata": {},
   "outputs": [
    {
     "name": "stdout",
     "output_type": "stream",
     "text": [
      "[[ 1  2  3  4]\n",
      " [ 5  6  7  8]\n",
      " [ 9 10 11 12]]\n",
      "[[False  True False  True]\n",
      " [False  True False  True]\n",
      " [False  True False  True]]\n",
      "[ 2  4  6  8 10 12]\n"
     ]
    }
   ],
   "source": [
    "print(y1)\n",
    "\n",
    "#짝수 필터링 인덱스 만들기\n",
    "idx=(y1%2==0) #2로 나눴을때 나머지가 0\n",
    "print(idx)\n",
    "\n",
    "\n",
    "print(y1[idx])"
   ]
  },
  {
   "cell_type": "markdown",
   "metadata": {},
   "source": [
    "### y1에서 3의 배수를 -10으로 바꿔봅시다."
   ]
  },
  {
   "cell_type": "code",
   "execution_count": 14,
   "metadata": {},
   "outputs": [
    {
     "name": "stdout",
     "output_type": "stream",
     "text": [
      "[[ 1  2  3  4]\n",
      " [ 5  6  7  8]\n",
      " [ 9 10 11 12]]\n",
      "[[ 1  2 -7  4]\n",
      " [ 5 -4  7  8]\n",
      " [-1 10 11  2]]\n"
     ]
    }
   ],
   "source": [
    "print(y1)\n",
    "\n",
    "idx2=(y1%3==0) #3로 나눴을때 나머지가 0\n",
    "y1[idx2] = y1[idx2]-10\n",
    "print(y1)"
   ]
  },
  {
   "cell_type": "markdown",
   "metadata": {},
   "source": [
    "### 행렬 연산을 해봅시다."
   ]
  },
  {
   "cell_type": "code",
   "execution_count": 15,
   "metadata": {},
   "outputs": [
    {
     "name": "stdout",
     "output_type": "stream",
     "text": [
      "[[1 2]\n",
      " [3 4]]\n",
      "[[ 3  6]\n",
      " [ 9 12]]\n",
      "[[ 4  8]\n",
      " [12 16]]\n",
      "[[ 3 12]\n",
      " [27 48]]\n",
      "[[21 30]\n",
      " [45 66]]\n"
     ]
    }
   ],
   "source": [
    "y2 = np.arange(1,5).reshape(2, 2)\n",
    "print(y2)\n",
    "\n",
    "#스칼라배\n",
    "y3=y2*3\n",
    "print(y3)\n",
    "\n",
    "#행렬합\n",
    "print(y2+y3)\n",
    "\n",
    "#행렬 원소끼리 곱\n",
    "print(y2 * y3)\n",
    "\n",
    "#행렬곱\n",
    "print(y2.dot(y3))\n",
    "\n",
    "#전치\n",
    "print(np.transpose(y2))\n",
    "\n",
    "#역행렬\n",
    "print(np.linalg.inv(y2))"
   ]
  },
  {
   "cell_type": "markdown",
   "metadata": {},
   "source": [
    "### + 특정행, 특정열 선택하기"
   ]
  },
  {
   "cell_type": "code",
   "execution_count": 16,
   "metadata": {},
   "outputs": [
    {
     "name": "stdout",
     "output_type": "stream",
     "text": [
      "[[ 1  2  3  4]\n",
      " [ 5  6  7  8]\n",
      " [ 9 10 11 12]]\n",
      "[5 6 7 8]\n",
      "[1 5 9]\n"
     ]
    }
   ],
   "source": [
    "y1 = np.arange(1,13).reshape(3, 4)\n",
    "print(y1)\n",
    "\n",
    "print(y1[1]) #두번째 행 추출\n",
    "\n",
    "print(y1[:,0]) #첫번째 열 추출"
   ]
  },
  {
   "cell_type": "markdown",
   "metadata": {},
   "source": [
    "# x+2y=3, 3x+4y=5 연립방정식의 해를 풀어봅시다"
   ]
  },
  {
   "cell_type": "code",
   "execution_count": 17,
   "metadata": {},
   "outputs": [
    {
     "name": "stdout",
     "output_type": "stream",
     "text": [
      "[-1.  2.]\n"
     ]
    }
   ],
   "source": [
    "a=np.array([[1,2],[3,4]])\n",
    "b=np.array([3,5])\n",
    "print( np.linalg.solve(a,b) )"
   ]
  }
 ],
 "metadata": {
  "kernelspec": {
   "display_name": "Python 3",
   "language": "python",
   "name": "python3"
  },
  "language_info": {
   "codemirror_mode": {
    "name": "ipython",
    "version": 3
   },
   "file_extension": ".py",
   "mimetype": "text/x-python",
   "name": "python",
   "nbconvert_exporter": "python",
   "pygments_lexer": "ipython3",
   "version": "3.8.5"
  }
 },
 "nbformat": 4,
 "nbformat_minor": 4
}
